{
 "cells": [
  {
   "cell_type": "code",
   "execution_count": 1,
   "metadata": {},
   "outputs": [
    {
     "name": "stdout",
     "output_type": "stream",
     "text": [
      "Requirement already satisfied: findspark in c:\\users\\admin\\appdata\\local\\programs\\python\\python311\\lib\\site-packages (2.0.1)\n"
     ]
    }
   ],
   "source": [
    "!pip install findspark\n",
    "import findspark\n",
    "findspark.init('C:\\Spark\\spark-3.5.0-bin-hadoop3')"
   ]
  },
  {
   "cell_type": "code",
   "execution_count": 4,
   "metadata": {},
   "outputs": [],
   "source": [
    "from pyspark.sql import SparkSession\n",
    "from pyspark.sql.functions import *\n",
    "from datetime import datetime, timedelta, date"
   ]
  },
  {
   "cell_type": "code",
   "execution_count": 3,
   "metadata": {},
   "outputs": [],
   "source": [
    "spark = SparkSession.builder.getOrCreate()"
   ]
  },
  {
   "cell_type": "code",
   "execution_count": 9,
   "metadata": {},
   "outputs": [],
   "source": [
    "df = spark.read.json('F:\\\\Course\\\\BigData\\\\DataSet\\\\20220401.json')"
   ]
  },
  {
   "cell_type": "code",
   "execution_count": 9,
   "metadata": {},
   "outputs": [
    {
     "name": "stdout",
     "output_type": "stream",
     "text": [
      "+--------------------+-------+------+--------------------+-----+\n",
      "|                 _id| _index|_score|             _source|_type|\n",
      "+--------------------+-------+------+--------------------+-----+\n",
      "|AX_momhia1FFivsGrn9o|history|     0|{KPLUS, HNH579912...|kplus|\n",
      "|AX_momhca1FFivsGrnvg|history|     0|{KPLUS, HUFD40665...|kplus|\n",
      "|AX_momhaa1FFivsGrnny|history|     0|{KPLUS, HNH572635...|kplus|\n",
      "|AX_momhca1FFivsGrnvv|history|     0|{KPLUS, HND141717...|kplus|\n",
      "|AX_momhia1FFivsGrn98|history|     0|{KPLUS, HNH743103...|kplus|\n",
      "|AX_momg9a1FFivsGrnkS|history|     0|{KPLUS, HNH893773...|kplus|\n",
      "|AX_momhca1FFivsGrnwA|history|     0|{KPLUS, HND083642...|kplus|\n",
      "|AX_momhfa1FFivsGrn2u|history|     0|{KPLUS, DNFD74404...|kplus|\n",
      "|AX_momhca1FFivsGrnwP|history|     0|{KPLUS, DTFD21200...|kplus|\n",
      "|AX_momhca1FFivsGrnwU|history|     0|{KPLUS, LDFD05747...|kplus|\n",
      "+--------------------+-------+------+--------------------+-----+\n",
      "only showing top 10 rows\n",
      "\n"
     ]
    }
   ],
   "source": [
    "df.show(10)"
   ]
  },
  {
   "cell_type": "code",
   "execution_count": 12,
   "metadata": {},
   "outputs": [
    {
     "data": {
      "text/plain": [
       "1654519"
      ]
     },
     "execution_count": 12,
     "metadata": {},
     "output_type": "execute_result"
    }
   ],
   "source": [
    "df.count()"
   ]
  },
  {
   "cell_type": "code",
   "execution_count": 5,
   "metadata": {},
   "outputs": [
    {
     "name": "stdout",
     "output_type": "stream",
     "text": [
      "root\n",
      " |-- _id: string (nullable = true)\n",
      " |-- _index: string (nullable = true)\n",
      " |-- _score: long (nullable = true)\n",
      " |-- _source: struct (nullable = true)\n",
      " |    |-- AppName: string (nullable = true)\n",
      " |    |-- Contract: string (nullable = true)\n",
      " |    |-- Mac: string (nullable = true)\n",
      " |    |-- TotalDuration: long (nullable = true)\n",
      " |-- _type: string (nullable = true)\n",
      "\n"
     ]
    }
   ],
   "source": [
    "df.printSchema()"
   ]
  },
  {
   "cell_type": "code",
   "execution_count": 6,
   "metadata": {},
   "outputs": [],
   "source": [
    "df = df.select('_source.*')"
   ]
  },
  {
   "cell_type": "code",
   "execution_count": 9,
   "metadata": {},
   "outputs": [],
   "source": [
    "df = df.withColumn(\"Type\",\n",
    "    when((col(\"AppName\") == 'CHANNEL') | (col(\"AppName\") == 'DSHD') | (col(\"AppName\") == 'KPLUS') | (col(\"AppName\") == 'KPlus'),\"Truyền Hình\")\n",
    "    .when((col(\"AppName\") == 'VOD') | (col(\"AppName\") == 'FIMS_RES') | (col(\"AppName\") == 'BHD_RES') | (col(\"AppName\") == 'VOD_RES') |\n",
    "           (col(\"AppName\") == 'FIMS') | (col(\"AppName\") == 'BHD') | (col(\"AppName\") == 'DANET'),\"Phim Truyện\")\n",
    "    .when((col(\"AppName\") == 'RELAX'), \"Giải Trí\")\n",
    "    .when((col(\"AppName\") == 'CHILD'), \"Thiếu Nhi\")\n",
    "    .when((col(\"AppName\") == 'SPORT'), \"Thể Thao\")\n",
    "    .otherwise(\"Error\")\n",
    "                   )"
   ]
  },
  {
   "cell_type": "code",
   "execution_count": 10,
   "metadata": {},
   "outputs": [
    {
     "name": "stdout",
     "output_type": "stream",
     "text": [
      "+-------+---------+------------+-------------+-----------+\n",
      "|AppName| Contract|         Mac|TotalDuration|       Type|\n",
      "+-------+---------+------------+-------------+-----------+\n",
      "|  KPLUS|HNH579912|0C96E62FC55C|          254|Truyền Hình|\n",
      "|  KPLUS|HUFD40665|CCEDDC333614|         1457|Truyền Hình|\n",
      "|  KPLUS|HNH572635|B068E6A1C5F6|         2318|Truyền Hình|\n",
      "|  KPLUS|HND141717|08674EE8D2C2|         1452|Truyền Hình|\n",
      "|  KPLUS|HNH743103|402343C25D7D|          251|Truyền Hình|\n",
      "|  KPLUS|HNH893773|B84DEE76D3B8|          924|Truyền Hình|\n",
      "|  KPLUS|HND083642|B84DEE849A0F|         1444|Truyền Hình|\n",
      "|  KPLUS|DNFD74404|90324BB44C39|          691|Truyền Hình|\n",
      "|  KPLUS|DTFD21200|B84DEED27709|         1436|Truyền Hình|\n",
      "|  KPLUS|LDFD05747|0C96E6C95E53|         1434|Truyền Hình|\n",
      "|  KPLUS|HNH063566|B84DEEDD1C85|          687|Truyền Hình|\n",
      "|  KPLUS|HNH866786|10394E2790A5|          248|Truyền Hình|\n",
      "|  KPLUS|NBAAA1128|10394E47C1AF|          247|Truyền Hình|\n",
      "|  KPLUS|HNH960439|B84DEED34371|          683|Truyền Hình|\n",
      "|  KPLUS|HNJ035736|CCD4A1FA86A5|          246|Truyền Hình|\n",
      "|  KPLUS|NTFD93673|B84DEEEF4763|         2288|Truyền Hình|\n",
      "|  KPLUS|HNJ063267|10394E172CA7|         2282|Truyền Hình|\n",
      "|  KPLUS|HNH790383|4CEBBD53378B|          906|Truyền Hình|\n",
      "|  KPLUS|THFD12466|5CEA1D893E1C|          242|Truyền Hình|\n",
      "|  KPLUS|HNH566080|802BF9E0DDC0|          242|Truyền Hình|\n",
      "+-------+---------+------------+-------------+-----------+\n",
      "only showing top 20 rows\n",
      "\n"
     ]
    }
   ],
   "source": [
    "df.show()"
   ]
  },
  {
   "cell_type": "code",
   "execution_count": 8,
   "metadata": {},
   "outputs": [
    {
     "name": "stdout",
     "output_type": "stream",
     "text": [
      "+-----------+\n",
      "|       Type|\n",
      "+-----------+\n",
      "|Truyền Hình|\n",
      "|  Thiếu Nhi|\n",
      "|   Giải Trí|\n",
      "|Phim Truyện|\n",
      "|   Thể Thao|\n",
      "+-----------+\n",
      "\n"
     ]
    }
   ],
   "source": [
    "df.select('Type').distinct().show()"
   ]
  },
  {
   "cell_type": "code",
   "execution_count": 27,
   "metadata": {},
   "outputs": [],
   "source": [
    "df = df.select('Contract','Type','TotalDuration')"
   ]
  },
  {
   "cell_type": "code",
   "execution_count": 13,
   "metadata": {},
   "outputs": [
    {
     "name": "stdout",
     "output_type": "stream",
     "text": [
      "+---------+-----------+-------------+\n",
      "| Contract|       Type|TotalDuration|\n",
      "+---------+-----------+-------------+\n",
      "|HNH579912|Truyền Hình|          254|\n",
      "|HUFD40665|Truyền Hình|         1457|\n",
      "|HNH572635|Truyền Hình|         2318|\n",
      "|HND141717|Truyền Hình|         1452|\n",
      "|HNH743103|Truyền Hình|          251|\n",
      "|HNH893773|Truyền Hình|          924|\n",
      "|HND083642|Truyền Hình|         1444|\n",
      "|DNFD74404|Truyền Hình|          691|\n",
      "|DTFD21200|Truyền Hình|         1436|\n",
      "|LDFD05747|Truyền Hình|         1434|\n",
      "|HNH063566|Truyền Hình|          687|\n",
      "|HNH866786|Truyền Hình|          248|\n",
      "|NBAAA1128|Truyền Hình|          247|\n",
      "|HNH960439|Truyền Hình|          683|\n",
      "|HNJ035736|Truyền Hình|          246|\n",
      "|NTFD93673|Truyền Hình|         2288|\n",
      "|HNJ063267|Truyền Hình|         2282|\n",
      "|HNH790383|Truyền Hình|          906|\n",
      "|THFD12466|Truyền Hình|          242|\n",
      "|HNH566080|Truyền Hình|          242|\n",
      "+---------+-----------+-------------+\n",
      "only showing top 20 rows\n",
      "\n"
     ]
    }
   ],
   "source": [
    "df.show()"
   ]
  },
  {
   "cell_type": "code",
   "execution_count": 28,
   "metadata": {},
   "outputs": [],
   "source": [
    "df = df.filter(df.Contract != '0')"
   ]
  },
  {
   "cell_type": "code",
   "execution_count": null,
   "metadata": {},
   "outputs": [],
   "source": [
    "df.orderBy('Contract',ascending = True).show()"
   ]
  },
  {
   "cell_type": "code",
   "execution_count": 34,
   "metadata": {},
   "outputs": [],
   "source": [
    "def pivot_data(df):\n",
    "    TV = df.filter(df.Type == 'Truyền Hình')\n",
    "    Movie = df.filter(df.Type == 'Phim Truyện')\n",
    "    Relax = df.filter(df.Type == 'Giải Trí')\n",
    "    Child = df.filter(df.Type == 'Thiếu Nhi')\n",
    "    Sport = df.filter(df.Type == 'Thể Thao')\n",
    "    TV = TV.withColumnRenamed('TotalDuration','TVDuration').drop('Type')\n",
    "    Movie = Movie.withColumnRenamed('TotalDuration','MovieDuration').drop('Type')\n",
    "    Relax = Relax.withColumnRenamed('TotalDuration','RelaxDuration').drop('Type')\n",
    "    Child = Child.withColumnRenamed('TotalDuration','ChildDuration').drop('Type')\n",
    "    Sport = Sport.withColumnRenamed('TotalDuration','SportDuration').drop('Type')\n",
    "    output = TV.join(Movie,on='Contract',how='outer').\\\n",
    "        join(Relax,on='Contract',how='outer').\\\n",
    "            join(Child,on='Contract',how='outer').\\\n",
    "                join(Sport,on='Contract',how='outer')\n",
    "    return output"
   ]
  },
  {
   "cell_type": "code",
   "execution_count": 35,
   "metadata": {},
   "outputs": [
    {
     "name": "stdout",
     "output_type": "stream",
     "text": [
      "+--------------+----------+-------------+-------------+-------------+-------------+\n",
      "|      Contract|TVDuration|MovieDuration|RelaxDuration|ChildDuration|SportDuration|\n",
      "+--------------+----------+-------------+-------------+-------------+-------------+\n",
      "|113.182.209.48|        20|         NULL|           89|         NULL|         NULL|\n",
      "|113.182.209.48|        43|         NULL|           89|         NULL|         NULL|\n",
      "|     AGAAA0338|      8895|         NULL|         NULL|         NULL|         NULL|\n",
      "|     AGAAA0342|        44|         NULL|         NULL|         NULL|         NULL|\n",
      "|     AGAAA0613|        83|         NULL|         NULL|         NULL|         NULL|\n",
      "|     AGAAA0638|       382|         NULL|         NULL|         NULL|         NULL|\n",
      "|     AGAAA0663|       344|         NULL|         NULL|         NULL|         NULL|\n",
      "|     AGAAA0693|      9370|         NULL|         NULL|         NULL|         NULL|\n",
      "|     AGAAA0718|     29103|         NULL|         NULL|         NULL|         NULL|\n",
      "|     AGAAA0723|        27|         NULL|         NULL|         NULL|         NULL|\n",
      "|     AGAAA0732|        13|         NULL|         NULL|         NULL|         NULL|\n",
      "|     AGAAA0750|        77|         NULL|         NULL|         NULL|         NULL|\n",
      "|     AGAAA0848|        41|         NULL|         NULL|         NULL|         NULL|\n",
      "|     AGAAA0849|        35|         NULL|         NULL|         NULL|         NULL|\n",
      "|     AGAAA0885|      6535|         NULL|         NULL|         NULL|         NULL|\n",
      "|     AGAAA0894|        17|         NULL|         NULL|         NULL|         NULL|\n",
      "|     AGAAA0901|     28235|         NULL|         NULL|         NULL|         NULL|\n",
      "|     AGAAA1047|        23|         NULL|         NULL|         NULL|         NULL|\n",
      "|     AGAAA1306|        35|         NULL|         NULL|         NULL|         NULL|\n",
      "|     AGAAA1316|      3890|         NULL|         NULL|         NULL|         NULL|\n",
      "+--------------+----------+-------------+-------------+-------------+-------------+\n",
      "only showing top 20 rows\n",
      "\n"
     ]
    }
   ],
   "source": [
    "result = pivot_data(df).show()"
   ]
  },
  {
   "cell_type": "code",
   "execution_count": 5,
   "metadata": {},
   "outputs": [],
   "source": [
    "#ĐỌC FILE DỮ LIỆU (FROM - TO):\n",
    "def get_range_days(start_date, end_date):\n",
    "    current_date = start_date\n",
    "    date_list = []\n",
    "\n",
    "    while current_date <= end_date:\n",
    "        date_list.append(current_date.strftime(\"%Y-%m-%d\"))\n",
    "        current_date += timedelta(days=1)\n",
    "\n",
    "    return date_list"
   ]
  },
  {
   "cell_type": "code",
   "execution_count": 6,
   "metadata": {},
   "outputs": [
    {
     "data": {
      "text/plain": [
       "['2023-04-01', '2023-04-02', '2023-04-03']"
      ]
     },
     "execution_count": 6,
     "metadata": {},
     "output_type": "execute_result"
    }
   ],
   "source": [
    "from_date = date(2023,4,1)\n",
    "to_date = date(2023,4,3)\n",
    "day_range = get_range_days(from_date,to_date)\n",
    "day_range"
   ]
  },
  {
   "cell_type": "code",
   "execution_count": 7,
   "metadata": {},
   "outputs": [
    {
     "data": {
      "text/plain": [
       "['20230401', '20230402', '20230403']"
      ]
     },
     "execution_count": 7,
     "metadata": {},
     "output_type": "execute_result"
    }
   ],
   "source": [
    "for i in range(len(day_range)):\n",
    "  day_range[i] = day_range[i].replace('-','')\n",
    "day_range"
   ]
  },
  {
   "cell_type": "code",
   "execution_count": 22,
   "metadata": {},
   "outputs": [
    {
     "name": "stdout",
     "output_type": "stream",
     "text": [
      "F:\\Course\\BigData\\DataSet\\20230401.json\n",
      "F:\\Course\\BigData\\DataSet\\20230402.json\n",
      "F:\\Course\\BigData\\DataSet\\20230403.json\n"
     ]
    }
   ],
   "source": [
    "for i in day_range:\n",
    "  path = 'F:\\\\Course\\\\BigData\\\\DataSet\\\\' + f'{i}.json'\n",
    "  print(path)\n",
    "  #---- ETL----"
   ]
  }
 ],
 "metadata": {
  "kernelspec": {
   "display_name": "base",
   "language": "python",
   "name": "python3"
  },
  "language_info": {
   "codemirror_mode": {
    "name": "ipython",
    "version": 3
   },
   "file_extension": ".py",
   "mimetype": "text/x-python",
   "name": "python",
   "nbconvert_exporter": "python",
   "pygments_lexer": "ipython3",
   "version": "3.11.2"
  }
 },
 "nbformat": 4,
 "nbformat_minor": 2
}
